{
 "cells": [
  {
   "cell_type": "markdown",
   "metadata": {},
   "source": [
    "Primeiro, a gente vai realizar a importação de todas as bibliotecas que usaremos."
   ]
  },
  {
   "cell_type": "markdown",
   "metadata": {},
   "source": [
    "Agora, a gente vai importar nossos dados."
   ]
  },
  {
   "cell_type": "markdown",
   "metadata": {},
   "source": [
    "## Entendendo o significado de todas as colunas\n",
    "\n",
    "É de extrema importância entender todas as colunas, por isso, copiei e colei o significado delas:\n",
    "\n",
    "- track_id: O ID único de cada música\n",
    "    \n",
    "- artists: Nome dos(as) artistas que performaram a música, separados por ';'\n",
    "    \n",
    "- album_name: Nome do álbum no qual aparece a música\n",
    "    \n",
    "- track_name: Nome da música\n",
    "    \n",
    "- duration_ms: A duração da música em milissegundos\n",
    "    \n",
    "- explicit: Boolean indicando se a música possui conteúdo explícito\n",
    "    \n",
    "- danceability: Descreve quanto uma música é \"dançante\" (0.0 = menos dançante, 1.0 = mais dançante)\n",
    "    \n",
    "- energy: Representa a intensidade e atividade de uma música (0.0 = baixa energia, 1.0 = alta energia)\n",
    "    \n",
    "- key: A tonalidade musical da faixa mapeada usando a notação padrão de Classe de Altura (12 notas musicais)\n",
    "    \n",
    "- loudness: Nível geral de volume da faixa em decibéis (dB)\n",
    "    \n",
    "- mode: Indica a modalidade (maior ou menor) da faixa\n",
    "    \n",
    "- speechiness: Detecta a presença de palavras faladas na faixa\n",
    "    \n",
    "- acousticness: Medida de confiança sobre se a faixa é acústica (0,0 = não acústica, 1,0 = altamente acústica)\n",
    "    \n",
    "- instrumentalness: Prediz se uma faixa contém vocais (0,0 = contém vocais, 1,0 = instrumental)\n",
    "    \n",
    "- liveness: Detecta a presença de uma audiência na gravação (0,0 = gravação em estúdio, 1,0 = performance ao vivo)\n",
    "    \n",
    "- valence: Mede a positividade musical transmitida por uma faixa (0,0 = negativa, 1,0 = positiva)\n",
    "    \n",
    "- tempo: Tempo estimado da faixa em batidas por minuto (BPM)\n",
    "    \n",
    "- time_signature: Assinatura de tempo estimada da faixa (de 3 a 7)\n",
    "    \n",
    "- track_genre: O gênero da música\n",
    "    \n",
    "- popularity_target: Boolean indicando se a música é popular ou não\n",
    "\n",
    "\n",
    "   Primeiro dou uma olhada por cima dos dados apenas para entender quais colunas são númericas e categóricas. Também quero ver elas como dados reais e por isso chamo o comando `df.head(3)`"
   ]
  },
  {
   "cell_type": "markdown",
   "metadata": {},
   "source": [
    "Agora partindo para uma análise mais profunda das colunas numéricas, começo com uma análise da estatística descritiva de cada coluna."
   ]
  },
  {
   "cell_type": "markdown",
   "metadata": {},
   "source": [
    "## Exploração e Visualização dos Dados\n",
    "\n",
    "Para isso, vou utilizar bibliotecas como Matplot e Seaborn. Nossa missão aqui é descobrir padrões, correlações e tendências nos dados."
   ]
  },
  {
   "cell_type": "markdown",
   "metadata": {},
   "source": [
    "Para o começo da nossa análise, é importante saber a quantidade de músicas que são populares ou não e saber como está a distribuição entre elas. No gráfico gerado a seguir, é possível observar que existe uma divisão bem equilibrada entre músicas populares e não populares."
   ]
  },
  {
   "cell_type": "markdown",
   "metadata": {},
   "source": [
    "Partindo com nossa análise, a gente vai agora observar nossas variáveis numéricas e a relação entre elas usando um Heatmap."
   ]
  },
  {
   "cell_type": "markdown",
   "metadata": {},
   "source": [
    "Realizando a análise do Heatmap acima, é possível identificar alguns padrões importantes sobre nossa base de dados.\n",
    "\n",
    "1. Loudness e Energy têm uma correlação positiva forte (0.76). Isso indica que músicas mais energéticas tendem a ser mais altas em volume.\n",
    "\n",
    "2. Danceability e Valence apresentam uma correlação moderada positiva (0.48), o que sugere que músicas mais dançantes costumam ser mais alegres ou positivas.\n",
    "\n",
    "3. Acousticness e Energy possuem uma correlação negativa forte (-0.73). Isso sugere que músicas mais acústicas tendem a ter menos energia.\n",
    "\n",
    "4. Loudness e Acousticness também mostram uma correlação negativa significativa (-0.59), indicando que músicas mais altas são menos acústicas.\n",
    "\n",
    "Saber desses padrão será importante para quando começarmos a selecionar as features para o treinamento do nosso modelo! Porque aqui é possível observar que alguns colunas estão extremamente ligadas com outras.\n",
    "\n",
    "Agora, queremos entender como diferentes características musicais se relacionam com a popularidade das músicas. Por isso, a gente vai criar alguns gráficos para realizar essa visualização.\n",
    "\n",
    "Com essa análise, a gente vai identificar quais características musicais têm maior influência na popularidade de uma música."
   ]
  },
  {
   "cell_type": "markdown",
   "metadata": {},
   "source": [
    "Observando o gráfico acima, conseguimos ter alguns insights.\n",
    "\n",
    "1. Danceability (Dançabilidade):\n",
    "\n",
    "Há uma ligeira tendência de músicas populares (1) terem maior dançabilidade.\n",
    "A diferença é pequena, mas notável, o que sugere que músicas mais dançantes têm uma probabilidade um pouco maior de serem populares.\n",
    "\n",
    "2.Instrumentalness (Instrumentalidade):\n",
    "\n",
    "Músicas populares tendem a ter menor instrumentalidade.\n",
    "Isso sugere que músicas com vocais são geralmente mais populares do que músicas puramente instrumentais.\n",
    "\n",
    "Agora, para entender quais gêneros proporcionam mais sucessos às músicas, a gente vai criar um gráfico para visualizar os 10 melhores gêneros em termos de músicas populares."
   ]
  },
  {
   "cell_type": "markdown",
   "metadata": {},
   "source": [
    "Análisando o gráfico acima, podemos observar que a popularidade não parece ser exclusivamente determinada por altos níveis de energia e dançabilidade, já que músicas populares existem em diversos níveis de energia e dançabilidade, sugerindo que outros fatores também influenciam a popularidade."
   ]
  },
  {
   "cell_type": "markdown",
   "metadata": {},
   "source": [
    "Observando a duração das músicas, podemos observar que há uma concentração muito alta de músicas com duração menor. Também observamos que existem músicas com durações extremamente longas. Estes podem ser álbuns inteiros, performances ao vivo, ou erros nos dados.\n",
    "\n",
    "- A assimetria da distribuição pode afetar análises estatísticas, sendo necessário considerar transformações ou métodos robustos. Em breve voltaremos nesse tópico ao tratar os dados.\n",
    "\n",
    "Já o gráfico de barras empilhadas abaixo apresenta uma comparação visual da proporção de conteúdo explícito entre músicas populares e não populares "
   ]
  },
  {
   "cell_type": "markdown",
   "metadata": {},
   "source": [
    "Observando o gráfico acima, podemos observar que:\n",
    "\n",
    "1. A maioria das músicas, tanto populares quanto não populares, não contém conteúdo explícito.\n",
    "2. Há uma ligeira tendência de músicas populares terem uma proporção um pouco maior de conteúdo explícito em comparação com as não populares.\n",
    "3. A presença de conteúdo explícito não parece ser um fator determinante para a popularidade de uma música, dada a pequena diferença observada.\n",
    "\n",
    "Agora para fechar nossa análise, a gente vai comparar a distribuição da duração das músicas entre as categorias de popularidade."
   ]
  },
  {
   "cell_type": "markdown",
   "metadata": {},
   "source": [
    "Observando o gráfico acima, vemos que:\n",
    "\n",
    "1. As medianas de duração para músicas populares e não populares são muito semelhantes, sugerindo que a duração por si só não é um forte indicador de popularidade.\n",
    "2. A dispersão (representada pelo tamanho das caixas) é ligeiramente menor para músicas populares, indicando uma maior consistência na duração dessas faixas.\n",
    "3. Existem muitos outliers em ambas as categorias, representando músicas com durações excepcionalmente longas.\n",
    "4. As músicas populares parecem ter menos outliers extremos em comparação com as não populares, especialmente na faixa de duração mais longa.\n",
    "5. A maioria das músicas, independentemente da popularidade, tem duração dentro de um intervalo relativamente estreito, como evidenciado pelo tamanho das caixas do boxplot.\n",
    "6. Há uma leve tendência de músicas populares terem durações um pouco mais curtas, observável pela posição ligeiramente inferior da caixa para músicas populares.\n",
    "\n",
    "Os principais insights de toda a análise são:\n",
    "\n",
    "- Músicas populares tendem a ter maior energia e dançabilidade.\n",
    "- A maioria das músicas, populares ou não, não contém conteúdo explícito, embora haja uma leve inclinação para mais conteúdo explícito em músicas populares.\n",
    "- A duração das músicas não é um bom indicador de popularidade, embora músicas populares apresentem durações mais consistentes.\n",
    "- Há correlações importantes entre características musicais, como a positiva entre energia e volume, e a negativa entre acústica e energia.\n",
    "\n",
    "Ainda não é possível definir as features para o modelo, mas parece que todas as colunas, exceto as de identificação, serão utilizadas no treinamento.\n",
    "\n",
    "# Testando algumas hipóteses"
   ]
  },
  {
   "cell_type": "markdown",
   "metadata": {},
   "source": [
    "\n",
    "\n",
    "## Limpeza e Tratamento de Valores Nulos\n"
   ]
  },
  {
   "cell_type": "markdown",
   "metadata": {},
   "source": [
    "Dá pra notar que as colunas 'time_signature' e 'tempo' possuem valores iguais a 0 e elas não deveriam estar assim:\n",
    "\n",
    "1. Tempo:\n",
    "\n",
    "- Representa a velocidade da música em batidas por minuto (BPM).\n",
    "- Um valor 0 significaria que não há batidas, o que é musicalmente impossível.\n",
    "- Tempos típicos variam de cerca de 60 BPM (lento) a 200 BPM (muito rápido).\n",
    "\n",
    "\n",
    "2. Time signature (fórmula de compasso):\n",
    "\n",
    "- Indica quantas batidas há por compasso e qual nota representa uma batida.\n",
    "- É escrita como uma fração, por exemplo, 4/4 ou 3/4.\n",
    "- Um valor 0 não faria sentido, pois implicaria em nenhuma batida por compasso."
   ]
  },
  {
   "cell_type": "markdown",
   "metadata": {},
   "source": [
    "Para resolver esses 2 problemas, vamos: \n",
    "\n",
    "- Trocar os valores de 'time_signature' pela moda, que é 4\n",
    "- Trocar os valores de 'tempo' pela mediana"
   ]
  },
  {
   "cell_type": "markdown",
   "metadata": {},
   "source": [
    "## Codificação de Variáveis Categóricas"
   ]
  },
  {
   "cell_type": "markdown",
   "metadata": {},
   "source": [
    "Best parameters for Random Forest:\n",
    "\n",
    "1. max_depth: 24\n",
    "2. max_features: log2\n",
    "3. min_samples_leaf: 1\n",
    "4. min_samples_split: 4\n",
    "5. n_estimators: 227\n",
    "\n",
    "- Best accuracy for Random Forest: 0.9055\n",
    "\n",
    "Best parameters for Extra Trees:\n",
    "\n",
    "1. max_depth: 24\n",
    "2. max_features: log2\n",
    "3. min_samples_leaf: 1\n",
    "4. min_samples_split: 4\n",
    "5. n_estimators: 227\n",
    "\n",
    "- Best accuracy for Extra Trees: 0.9044\n",
    "\n",
    "Best parameters for Gradient Boosting:\n",
    "    \n",
    "1. learning_rate: 0.08323765667433225\n",
    "2. max_depth: 13\n",
    "3. min_samples_leaf: 9\n",
    "4. min_samples_split: 18\n",
    "5. n_estimators: 929\n",
    "6. subsample: 0.9887128330883843\n",
    "\n",
    "- Best accuracy for Gradient Boosting: 0.9078\n"
   ]
  },
  {
   "cell_type": "code",
   "execution_count": 77,
   "metadata": {},
   "outputs": [],
   "source": [
    "import pandas as pd\n",
    "import matplotlib.pyplot as plt\n",
    "import seaborn as sns\n",
    "import numpy as np\n",
    "from sklearn.preprocessing import LabelEncoder\n",
    "from sklearn.preprocessing import StandardScaler, OneHotEncoder, PolynomialFeatures\n",
    "from sklearn.model_selection import KFold, train_test_split, RandomizedSearchCV, GridSearchCV, cross_val_predict, cross_val_score\n",
    "from sklearn.metrics import accuracy_score, precision_score, recall_score, f1_score, classification_report, make_scorer\n",
    "from sklearn.ensemble import RandomForestClassifier, VotingClassifier, StackingClassifier, GradientBoostingClassifier, ExtraTreesClassifier, BaggingClassifier, AdaBoostClassifier, HistGradientBoostingClassifier\n",
    "from sklearn.linear_model import LogisticRegression, Lasso, RidgeClassifier\n",
    "from sklearn.neural_network import MLPClassifier\n",
    "from sklearn.naive_bayes import BernoulliNB\n",
    "from sklearn.tree import DecisionTreeClassifier\n",
    "from sklearn.neighbors import KNeighborsClassifier\n",
    "from sklearn.svm import SVC\n",
    "from sklearn.datasets import load_iris\n",
    "from sklearn.decomposition import PCA\n",
    "from scipy.stats import uniform, randint, loguniform\n",
    "import xgboost as xgb\n",
    "import lightgbm as lgb\n",
    "import joblib\n",
    "import warnings"
   ]
  },
  {
   "cell_type": "code",
   "execution_count": 78,
   "metadata": {},
   "outputs": [],
   "source": [
    "df_test = pd.read_csv('test.csv')\n",
    "df = pd.read_csv('train.csv')"
   ]
  },
  {
   "cell_type": "code",
   "execution_count": 79,
   "metadata": {},
   "outputs": [],
   "source": [
    "pd.set_option('display.max_columns', None) # Configuracao para mostrar todas as colunas"
   ]
  },
  {
   "cell_type": "code",
   "execution_count": 80,
   "metadata": {},
   "outputs": [
    {
     "name": "stdout",
     "output_type": "stream",
     "text": [
      "<class 'pandas.core.frame.DataFrame'>\n",
      "RangeIndex: 79800 entries, 0 to 79799\n",
      "Data columns (total 21 columns):\n",
      " #   Column             Non-Null Count  Dtype  \n",
      "---  ------             --------------  -----  \n",
      " 0   track_unique_id    79800 non-null  int64  \n",
      " 1   track_id           79800 non-null  object \n",
      " 2   artists            79800 non-null  object \n",
      " 3   album_name         79800 non-null  object \n",
      " 4   track_name         79800 non-null  object \n",
      " 5   duration_ms        79800 non-null  int64  \n",
      " 6   explicit           79800 non-null  bool   \n",
      " 7   danceability       79800 non-null  float64\n",
      " 8   energy             79800 non-null  float64\n",
      " 9   key                79800 non-null  int64  \n",
      " 10  loudness           79800 non-null  float64\n",
      " 11  mode               79800 non-null  int64  \n",
      " 12  speechiness        79800 non-null  float64\n",
      " 13  acousticness       79800 non-null  float64\n",
      " 14  instrumentalness   79800 non-null  float64\n",
      " 15  liveness           79800 non-null  float64\n",
      " 16  valence            79800 non-null  float64\n",
      " 17  tempo              79800 non-null  float64\n",
      " 18  time_signature     79800 non-null  int64  \n",
      " 19  track_genre        79800 non-null  object \n",
      " 20  popularity_target  79800 non-null  int64  \n",
      "dtypes: bool(1), float64(9), int64(6), object(5)\n",
      "memory usage: 12.3+ MB\n"
     ]
    }
   ],
   "source": [
    "df.info()"
   ]
  },
  {
   "cell_type": "code",
   "execution_count": 81,
   "metadata": {},
   "outputs": [
    {
     "data": {
      "text/html": [
       "<div>\n",
       "<style scoped>\n",
       "    .dataframe tbody tr th:only-of-type {\n",
       "        vertical-align: middle;\n",
       "    }\n",
       "\n",
       "    .dataframe tbody tr th {\n",
       "        vertical-align: top;\n",
       "    }\n",
       "\n",
       "    .dataframe thead th {\n",
       "        text-align: right;\n",
       "    }\n",
       "</style>\n",
       "<table border=\"1\" class=\"dataframe\">\n",
       "  <thead>\n",
       "    <tr style=\"text-align: right;\">\n",
       "      <th></th>\n",
       "      <th>track_unique_id</th>\n",
       "      <th>track_id</th>\n",
       "      <th>artists</th>\n",
       "      <th>album_name</th>\n",
       "      <th>track_name</th>\n",
       "      <th>duration_ms</th>\n",
       "      <th>explicit</th>\n",
       "      <th>danceability</th>\n",
       "      <th>energy</th>\n",
       "      <th>key</th>\n",
       "      <th>loudness</th>\n",
       "      <th>mode</th>\n",
       "      <th>speechiness</th>\n",
       "      <th>acousticness</th>\n",
       "      <th>instrumentalness</th>\n",
       "      <th>liveness</th>\n",
       "      <th>valence</th>\n",
       "      <th>tempo</th>\n",
       "      <th>time_signature</th>\n",
       "      <th>track_genre</th>\n",
       "      <th>popularity_target</th>\n",
       "    </tr>\n",
       "  </thead>\n",
       "  <tbody>\n",
       "    <tr>\n",
       "      <th>0</th>\n",
       "      <td>41996</td>\n",
       "      <td>7hUhmkALyQ8SX9mJs5XI3D</td>\n",
       "      <td>Love and Rockets</td>\n",
       "      <td>Love and Rockets</td>\n",
       "      <td>Motorcycle</td>\n",
       "      <td>211533</td>\n",
       "      <td>False</td>\n",
       "      <td>0.305</td>\n",
       "      <td>0.849</td>\n",
       "      <td>9</td>\n",
       "      <td>-10.795</td>\n",
       "      <td>1</td>\n",
       "      <td>0.0549</td>\n",
       "      <td>0.000058</td>\n",
       "      <td>0.056700</td>\n",
       "      <td>0.4640</td>\n",
       "      <td>0.320</td>\n",
       "      <td>141.793</td>\n",
       "      <td>4</td>\n",
       "      <td>goth</td>\n",
       "      <td>0</td>\n",
       "    </tr>\n",
       "    <tr>\n",
       "      <th>1</th>\n",
       "      <td>76471</td>\n",
       "      <td>5x59U89ZnjZXuNAAlc8X1u</td>\n",
       "      <td>Filippa Giordano</td>\n",
       "      <td>Filippa Giordano</td>\n",
       "      <td>Addio del passato - From \"La traviata\"</td>\n",
       "      <td>196000</td>\n",
       "      <td>False</td>\n",
       "      <td>0.287</td>\n",
       "      <td>0.190</td>\n",
       "      <td>7</td>\n",
       "      <td>-12.030</td>\n",
       "      <td>0</td>\n",
       "      <td>0.0370</td>\n",
       "      <td>0.930000</td>\n",
       "      <td>0.000356</td>\n",
       "      <td>0.0834</td>\n",
       "      <td>0.133</td>\n",
       "      <td>83.685</td>\n",
       "      <td>4</td>\n",
       "      <td>opera</td>\n",
       "      <td>0</td>\n",
       "    </tr>\n",
       "    <tr>\n",
       "      <th>2</th>\n",
       "      <td>54809</td>\n",
       "      <td>70Vng5jLzoJLmeLu3ayBQq</td>\n",
       "      <td>Susumu Yokota</td>\n",
       "      <td>Symbol</td>\n",
       "      <td>Purple Rose Minuet</td>\n",
       "      <td>216506</td>\n",
       "      <td>False</td>\n",
       "      <td>0.583</td>\n",
       "      <td>0.509</td>\n",
       "      <td>1</td>\n",
       "      <td>-9.661</td>\n",
       "      <td>1</td>\n",
       "      <td>0.0362</td>\n",
       "      <td>0.777000</td>\n",
       "      <td>0.202000</td>\n",
       "      <td>0.1150</td>\n",
       "      <td>0.544</td>\n",
       "      <td>90.459</td>\n",
       "      <td>3</td>\n",
       "      <td>idm</td>\n",
       "      <td>1</td>\n",
       "    </tr>\n",
       "  </tbody>\n",
       "</table>\n",
       "</div>"
      ],
      "text/plain": [
       "   track_unique_id                track_id           artists  \\\n",
       "0            41996  7hUhmkALyQ8SX9mJs5XI3D  Love and Rockets   \n",
       "1            76471  5x59U89ZnjZXuNAAlc8X1u  Filippa Giordano   \n",
       "2            54809  70Vng5jLzoJLmeLu3ayBQq     Susumu Yokota   \n",
       "\n",
       "         album_name                              track_name  duration_ms  \\\n",
       "0  Love and Rockets                              Motorcycle       211533   \n",
       "1  Filippa Giordano  Addio del passato - From \"La traviata\"       196000   \n",
       "2            Symbol                      Purple Rose Minuet       216506   \n",
       "\n",
       "   explicit  danceability  energy  key  loudness  mode  speechiness  \\\n",
       "0     False         0.305   0.849    9   -10.795     1       0.0549   \n",
       "1     False         0.287   0.190    7   -12.030     0       0.0370   \n",
       "2     False         0.583   0.509    1    -9.661     1       0.0362   \n",
       "\n",
       "   acousticness  instrumentalness  liveness  valence    tempo  time_signature  \\\n",
       "0      0.000058          0.056700    0.4640    0.320  141.793               4   \n",
       "1      0.930000          0.000356    0.0834    0.133   83.685               4   \n",
       "2      0.777000          0.202000    0.1150    0.544   90.459               3   \n",
       "\n",
       "  track_genre  popularity_target  \n",
       "0        goth                  0  \n",
       "1       opera                  0  \n",
       "2         idm                  1  "
      ]
     },
     "execution_count": 81,
     "metadata": {},
     "output_type": "execute_result"
    }
   ],
   "source": [
    "df.head(3)"
   ]
  },
  {
   "cell_type": "code",
   "execution_count": 82,
   "metadata": {},
   "outputs": [
    {
     "data": {
      "text/html": [
       "<div>\n",
       "<style scoped>\n",
       "    .dataframe tbody tr th:only-of-type {\n",
       "        vertical-align: middle;\n",
       "    }\n",
       "\n",
       "    .dataframe tbody tr th {\n",
       "        vertical-align: top;\n",
       "    }\n",
       "\n",
       "    .dataframe thead th {\n",
       "        text-align: right;\n",
       "    }\n",
       "</style>\n",
       "<table border=\"1\" class=\"dataframe\">\n",
       "  <thead>\n",
       "    <tr style=\"text-align: right;\">\n",
       "      <th></th>\n",
       "      <th>track_unique_id</th>\n",
       "      <th>duration_ms</th>\n",
       "      <th>danceability</th>\n",
       "      <th>energy</th>\n",
       "      <th>key</th>\n",
       "      <th>loudness</th>\n",
       "      <th>mode</th>\n",
       "      <th>speechiness</th>\n",
       "      <th>acousticness</th>\n",
       "      <th>instrumentalness</th>\n",
       "      <th>liveness</th>\n",
       "      <th>valence</th>\n",
       "      <th>tempo</th>\n",
       "      <th>time_signature</th>\n",
       "      <th>popularity_target</th>\n",
       "    </tr>\n",
       "  </thead>\n",
       "  <tbody>\n",
       "    <tr>\n",
       "      <th>count</th>\n",
       "      <td>79800.000000</td>\n",
       "      <td>7.980000e+04</td>\n",
       "      <td>79800.000000</td>\n",
       "      <td>79800.000000</td>\n",
       "      <td>79800.000000</td>\n",
       "      <td>79800.000000</td>\n",
       "      <td>79800.000000</td>\n",
       "      <td>79800.000000</td>\n",
       "      <td>79800.000000</td>\n",
       "      <td>79800.000000</td>\n",
       "      <td>79800.000000</td>\n",
       "      <td>79800.000000</td>\n",
       "      <td>79800.000000</td>\n",
       "      <td>79800.000000</td>\n",
       "      <td>79800.000000</td>\n",
       "    </tr>\n",
       "    <tr>\n",
       "      <th>mean</th>\n",
       "      <td>57140.494048</td>\n",
       "      <td>2.279022e+05</td>\n",
       "      <td>0.567318</td>\n",
       "      <td>0.641529</td>\n",
       "      <td>5.307043</td>\n",
       "      <td>-8.263741</td>\n",
       "      <td>0.637732</td>\n",
       "      <td>0.084750</td>\n",
       "      <td>0.314979</td>\n",
       "      <td>0.157319</td>\n",
       "      <td>0.213313</td>\n",
       "      <td>0.474267</td>\n",
       "      <td>122.076559</td>\n",
       "      <td>3.902556</td>\n",
       "      <td>0.487845</td>\n",
       "    </tr>\n",
       "    <tr>\n",
       "      <th>std</th>\n",
       "      <td>32993.196225</td>\n",
       "      <td>1.050599e+05</td>\n",
       "      <td>0.173110</td>\n",
       "      <td>0.251441</td>\n",
       "      <td>3.562186</td>\n",
       "      <td>5.035504</td>\n",
       "      <td>0.480659</td>\n",
       "      <td>0.105657</td>\n",
       "      <td>0.332512</td>\n",
       "      <td>0.310792</td>\n",
       "      <td>0.190075</td>\n",
       "      <td>0.259010</td>\n",
       "      <td>29.941937</td>\n",
       "      <td>0.434284</td>\n",
       "      <td>0.499855</td>\n",
       "    </tr>\n",
       "    <tr>\n",
       "      <th>min</th>\n",
       "      <td>0.000000</td>\n",
       "      <td>1.338600e+04</td>\n",
       "      <td>0.000000</td>\n",
       "      <td>0.000019</td>\n",
       "      <td>0.000000</td>\n",
       "      <td>-49.307000</td>\n",
       "      <td>0.000000</td>\n",
       "      <td>0.000000</td>\n",
       "      <td>0.000000</td>\n",
       "      <td>0.000000</td>\n",
       "      <td>0.000000</td>\n",
       "      <td>0.000000</td>\n",
       "      <td>0.000000</td>\n",
       "      <td>0.000000</td>\n",
       "      <td>0.000000</td>\n",
       "    </tr>\n",
       "    <tr>\n",
       "      <th>25%</th>\n",
       "      <td>28450.500000</td>\n",
       "      <td>1.744360e+05</td>\n",
       "      <td>0.456000</td>\n",
       "      <td>0.472000</td>\n",
       "      <td>2.000000</td>\n",
       "      <td>-10.006000</td>\n",
       "      <td>0.000000</td>\n",
       "      <td>0.035900</td>\n",
       "      <td>0.017000</td>\n",
       "      <td>0.000000</td>\n",
       "      <td>0.097900</td>\n",
       "      <td>0.261000</td>\n",
       "      <td>99.081250</td>\n",
       "      <td>4.000000</td>\n",
       "      <td>0.000000</td>\n",
       "    </tr>\n",
       "    <tr>\n",
       "      <th>50%</th>\n",
       "      <td>57234.000000</td>\n",
       "      <td>2.128130e+05</td>\n",
       "      <td>0.581000</td>\n",
       "      <td>0.685000</td>\n",
       "      <td>5.000000</td>\n",
       "      <td>-7.012000</td>\n",
       "      <td>1.000000</td>\n",
       "      <td>0.049000</td>\n",
       "      <td>0.169000</td>\n",
       "      <td>0.000041</td>\n",
       "      <td>0.132000</td>\n",
       "      <td>0.464000</td>\n",
       "      <td>122.009000</td>\n",
       "      <td>4.000000</td>\n",
       "      <td>0.000000</td>\n",
       "    </tr>\n",
       "    <tr>\n",
       "      <th>75%</th>\n",
       "      <td>85774.250000</td>\n",
       "      <td>2.614260e+05</td>\n",
       "      <td>0.695000</td>\n",
       "      <td>0.854000</td>\n",
       "      <td>8.000000</td>\n",
       "      <td>-5.000000</td>\n",
       "      <td>1.000000</td>\n",
       "      <td>0.084500</td>\n",
       "      <td>0.598000</td>\n",
       "      <td>0.050500</td>\n",
       "      <td>0.273000</td>\n",
       "      <td>0.684000</td>\n",
       "      <td>140.054000</td>\n",
       "      <td>4.000000</td>\n",
       "      <td>1.000000</td>\n",
       "    </tr>\n",
       "    <tr>\n",
       "      <th>max</th>\n",
       "      <td>113998.000000</td>\n",
       "      <td>5.237295e+06</td>\n",
       "      <td>0.985000</td>\n",
       "      <td>1.000000</td>\n",
       "      <td>11.000000</td>\n",
       "      <td>4.532000</td>\n",
       "      <td>1.000000</td>\n",
       "      <td>0.965000</td>\n",
       "      <td>0.996000</td>\n",
       "      <td>1.000000</td>\n",
       "      <td>1.000000</td>\n",
       "      <td>0.995000</td>\n",
       "      <td>222.605000</td>\n",
       "      <td>5.000000</td>\n",
       "      <td>1.000000</td>\n",
       "    </tr>\n",
       "  </tbody>\n",
       "</table>\n",
       "</div>"
      ],
      "text/plain": [
       "       track_unique_id   duration_ms  danceability        energy  \\\n",
       "count     79800.000000  7.980000e+04  79800.000000  79800.000000   \n",
       "mean      57140.494048  2.279022e+05      0.567318      0.641529   \n",
       "std       32993.196225  1.050599e+05      0.173110      0.251441   \n",
       "min           0.000000  1.338600e+04      0.000000      0.000019   \n",
       "25%       28450.500000  1.744360e+05      0.456000      0.472000   \n",
       "50%       57234.000000  2.128130e+05      0.581000      0.685000   \n",
       "75%       85774.250000  2.614260e+05      0.695000      0.854000   \n",
       "max      113998.000000  5.237295e+06      0.985000      1.000000   \n",
       "\n",
       "                key      loudness          mode   speechiness  acousticness  \\\n",
       "count  79800.000000  79800.000000  79800.000000  79800.000000  79800.000000   \n",
       "mean       5.307043     -8.263741      0.637732      0.084750      0.314979   \n",
       "std        3.562186      5.035504      0.480659      0.105657      0.332512   \n",
       "min        0.000000    -49.307000      0.000000      0.000000      0.000000   \n",
       "25%        2.000000    -10.006000      0.000000      0.035900      0.017000   \n",
       "50%        5.000000     -7.012000      1.000000      0.049000      0.169000   \n",
       "75%        8.000000     -5.000000      1.000000      0.084500      0.598000   \n",
       "max       11.000000      4.532000      1.000000      0.965000      0.996000   \n",
       "\n",
       "       instrumentalness      liveness       valence         tempo  \\\n",
       "count      79800.000000  79800.000000  79800.000000  79800.000000   \n",
       "mean           0.157319      0.213313      0.474267    122.076559   \n",
       "std            0.310792      0.190075      0.259010     29.941937   \n",
       "min            0.000000      0.000000      0.000000      0.000000   \n",
       "25%            0.000000      0.097900      0.261000     99.081250   \n",
       "50%            0.000041      0.132000      0.464000    122.009000   \n",
       "75%            0.050500      0.273000      0.684000    140.054000   \n",
       "max            1.000000      1.000000      0.995000    222.605000   \n",
       "\n",
       "       time_signature  popularity_target  \n",
       "count    79800.000000       79800.000000  \n",
       "mean         3.902556           0.487845  \n",
       "std          0.434284           0.499855  \n",
       "min          0.000000           0.000000  \n",
       "25%          4.000000           0.000000  \n",
       "50%          4.000000           0.000000  \n",
       "75%          4.000000           1.000000  \n",
       "max          5.000000           1.000000  "
      ]
     },
     "execution_count": 82,
     "metadata": {},
     "output_type": "execute_result"
    }
   ],
   "source": [
    "df.describe()"
   ]
  },
  {
   "cell_type": "code",
   "execution_count": 83,
   "metadata": {},
   "outputs": [
    {
     "data": {
      "image/png": "[encoded data removed]",
      "text/plain": [
       "<Figure size 1200x1000 with 2 Axes>"
      ]
     },
     "metadata": {},
     "output_type": "display_data"
    }
   ],
   "source": [
    "numerical_features = ['duration_ms', 'danceability', 'energy', 'key', 'loudness', 'speechiness', \n",
    "                      'acousticness', 'instrumentalness', 'liveness', 'valence', 'tempo']\n",
    "plt.figure(figsize=(12, 10))\n",
    "sns.heatmap(df[numerical_features].corr(), annot=True, cmap='coolwarm', linewidths=0.5)\n",
    "plt.title('Correlation Heatmap of Numerical Features')\n",
    "plt.show()"
   ]
  },
  {
   "cell_type": "code",
   "execution_count": 84,
   "metadata": {},
   "outputs": [
    {
     "data": {
      "image/png": "[encoded data removed]",
      "text/plain": [
       "<Figure size 1200x600 with 1 Axes>"
      ]
     },
     "metadata": {},
     "output_type": "display_data"
    }
   ],
   "source": [
    "top_genres = df['track_genre'].value_counts().nlargest(10)\n",
    "plt.figure(figsize=(12, 6))\n",
    "sns.barplot(x=top_genres.index, y=top_genres.values)\n",
    "plt.title('Top 10 Genres by Count')\n",
    "plt.xticks(rotation=45, ha='right')\n",
    "plt.show()"
   ]
  },
  {
   "cell_type": "code",
   "execution_count": 85,
   "metadata": {},
   "outputs": [
    {
     "name": "stdout",
     "output_type": "stream",
     "text": [
      "0\n"
     ]
    }
   ],
   "source": [
    "duplicated_values = df[df.duplicated()]\n",
    "print(len(duplicated_values))"
   ]
  },
  {
   "cell_type": "code",
   "execution_count": 86,
   "metadata": {},
   "outputs": [
    {
     "data": {
      "text/plain": [
       "track_unique_id      0\n",
       "track_id             0\n",
       "artists              0\n",
       "album_name           0\n",
       "track_name           0\n",
       "duration_ms          0\n",
       "explicit             0\n",
       "danceability         0\n",
       "energy               0\n",
       "key                  0\n",
       "loudness             0\n",
       "mode                 0\n",
       "speechiness          0\n",
       "acousticness         0\n",
       "instrumentalness     0\n",
       "liveness             0\n",
       "valence              0\n",
       "tempo                0\n",
       "time_signature       0\n",
       "track_genre          0\n",
       "popularity_target    0\n",
       "dtype: int64"
      ]
     },
     "execution_count": 86,
     "metadata": {},
     "output_type": "execute_result"
    }
   ],
   "source": [
    "df.isnull().sum()"
   ]
  },
  {
   "cell_type": "code",
   "execution_count": 87,
   "metadata": {},
   "outputs": [
    {
     "name": "stdout",
     "output_type": "stream",
     "text": [
      "track_unique_id          1\n",
      "track_id                 0\n",
      "artists                  0\n",
      "album_name               0\n",
      "track_name               0\n",
      "duration_ms              0\n",
      "explicit             72962\n",
      "danceability            99\n",
      "energy                   0\n",
      "key                   9183\n",
      "loudness                 0\n",
      "mode                 28909\n",
      "speechiness             99\n",
      "acousticness            28\n",
      "instrumentalness     27202\n",
      "liveness                 1\n",
      "valence                108\n",
      "tempo                   99\n",
      "time_signature         102\n",
      "track_genre              0\n",
      "popularity_target    40870\n",
      "dtype: int64\n"
     ]
    }
   ],
   "source": [
    "zero_count = (df == 0).sum()\n",
    "print(zero_count)"
   ]
  },
  {
   "cell_type": "code",
   "execution_count": 88,
   "metadata": {},
   "outputs": [
    {
     "data": {
      "text/plain": [
       "time_signature\n",
       "4    71202\n",
       "3     6512\n",
       "5     1274\n",
       "1      710\n",
       "0      102\n",
       "Name: count, dtype: int64"
      ]
     },
     "execution_count": 88,
     "metadata": {},
     "output_type": "execute_result"
    }
   ],
   "source": [
    "df['time_signature'].value_counts()"
   ]
  },
  {
   "cell_type": "code",
   "execution_count": 89,
   "metadata": {},
   "outputs": [
    {
     "name": "stdout",
     "output_type": "stream",
     "text": [
      "count    79800.000000\n",
      "mean       122.076559\n",
      "std         29.941937\n",
      "min          0.000000\n",
      "25%         99.081250\n",
      "50%        122.009000\n",
      "75%        140.054000\n",
      "max        222.605000\n",
      "Name: tempo, dtype: float64 tempo\n",
      "151.925    112\n",
      "0.000       99\n",
      "95.004      61\n",
      "87.925      59\n",
      "77.321      54\n",
      "          ... \n",
      "102.107      1\n",
      "112.066      1\n",
      "149.020      1\n",
      "164.963      1\n",
      "127.705      1\n",
      "Name: count, Length: 37292, dtype: int64\n"
     ]
    }
   ],
   "source": [
    "print(df['tempo'].describe(), df['tempo'].value_counts())"
   ]
  },
  {
   "cell_type": "code",
   "execution_count": 90,
   "metadata": {},
   "outputs": [],
   "source": [
    "tempo_median = df['tempo'].median()\n",
    "df_treating_data = df.copy()\n",
    "df_treating_data['tempo'] = df_treating_data['tempo'].replace(0,tempo_median)\n",
    "df_treating_data['time_signature'] = df_treating_data['time_signature'].replace(0,4)"
   ]
  },
  {
   "cell_type": "markdown",
   "metadata": {},
   "source": [
    "# Treinamento"
   ]
  },
  {
   "cell_type": "code",
   "execution_count": 91,
   "metadata": {},
   "outputs": [],
   "source": [
    "from sklearn.preprocessing import StandardScaler\n",
    "\n",
    "def custom_normalize_and_encode_dataset(df, target_column):\n",
    "    \"\"\"\n",
    "    Aplica Label Encoding nas colunas categóricas e normaliza as colunas numéricas.\n",
    "    \n",
    "    Parâmetros:\n",
    "    df (DataFrame): DataFrame com os dados.\n",
    "    target_column (str): Nome da coluna alvo (target) que não será codificada ou normalizada.\n",
    "    \n",
    "    Retorna:\n",
    "    tuple: DataFrame codificado e normalizado, dicionário de encoders e dicionário de scalers.\n",
    "    \"\"\"\n",
    "    df_encoded = df.copy()\n",
    "    encoding_dict = {}\n",
    "    scaler_dict = {}\n",
    "    \n",
    "    # Identificar colunas categóricas e numéricas\n",
    "    categorical_columns = df.select_dtypes(include=['object', 'category']).columns.tolist()\n",
    "    numerical_columns = df.select_dtypes(include=['float64', 'int64']).columns.tolist()\n",
    "    \n",
    "    # Remover a coluna alvo das listas\n",
    "    if target_column in categorical_columns:\n",
    "        categorical_columns.remove(target_column)\n",
    "    if target_column in numerical_columns:\n",
    "        numerical_columns.remove(target_column)\n",
    "    \n",
    "    # Aplicar Label Encoding manual nas colunas categóricas\n",
    "    for col in categorical_columns:\n",
    "        unique_values = df_encoded[col].unique()\n",
    "        encoding_map = {category: idx for idx, category in enumerate(unique_values)}\n",
    "        df_encoded[col + '_label_encoded'] = df_encoded[col].map(encoding_map)\n",
    "        encoding_dict[col] = encoding_map\n",
    "    \n",
    "    # Remover colunas categóricas originais\n",
    "    df_encoded = df_encoded.drop(columns=categorical_columns)\n",
    "    \n",
    "    # Aplicar normalização nas colunas numéricas\n",
    "    for col in numerical_columns:\n",
    "        scaler = StandardScaler()\n",
    "        df_encoded[col] = scaler.fit_transform(df_encoded[[col]])\n",
    "        scaler_dict[col] = scaler\n",
    "    \n",
    "    return df_encoded, encoding_dict, scaler_dict\n",
    "\n",
    "# Exemplo de uso:\n",
    "encoded_df, encoding_dict, scaler_dict = custom_normalize_and_encode_dataset(new_df, 'popularity_target')\n"
   ]
  },
  {
   "cell_type": "code",
   "execution_count": 92,
   "metadata": {},
   "outputs": [],
   "source": [
    "new_df = df_treating_data.copy()\n",
    "new_df = new_df.drop(columns=['track_unique_id', 'track_id'])"
   ]
  },
  {
   "cell_type": "code",
   "execution_count": 93,
   "metadata": {},
   "outputs": [],
   "source": [
    "encoded_df, encoding_dict, scaler_dict = custom_normalize_and_encode_dataset(new_df, 'popularity_target')\n"
   ]
  },
  {
   "cell_type": "code",
   "execution_count": 94,
   "metadata": {},
   "outputs": [
    {
     "name": "stdout",
     "output_type": "stream",
     "text": [
      "<class 'pandas.core.frame.DataFrame'>\n",
      "RangeIndex: 79800 entries, 0 to 79799\n",
      "Data columns (total 21 columns):\n",
      " #   Column             Non-Null Count  Dtype  \n",
      "---  ------             --------------  -----  \n",
      " 0   track_unique_id    79800 non-null  int64  \n",
      " 1   track_id           79800 non-null  object \n",
      " 2   artists            79800 non-null  object \n",
      " 3   album_name         79800 non-null  object \n",
      " 4   track_name         79800 non-null  object \n",
      " 5   duration_ms        79800 non-null  int64  \n",
      " 6   explicit           79800 non-null  bool   \n",
      " 7   danceability       79800 non-null  float64\n",
      " 8   energy             79800 non-null  float64\n",
      " 9   key                79800 non-null  int64  \n",
      " 10  loudness           79800 non-null  float64\n",
      " 11  mode               79800 non-null  int64  \n",
      " 12  speechiness        79800 non-null  float64\n",
      " 13  acousticness       79800 non-null  float64\n",
      " 14  instrumentalness   79800 non-null  float64\n",
      " 15  liveness           79800 non-null  float64\n",
      " 16  valence            79800 non-null  float64\n",
      " 17  tempo              79800 non-null  float64\n",
      " 18  time_signature     79800 non-null  int64  \n",
      " 19  track_genre        79800 non-null  object \n",
      " 20  popularity_target  79800 non-null  int64  \n",
      "dtypes: bool(1), float64(9), int64(6), object(5)\n",
      "memory usage: 12.3+ MB\n"
     ]
    }
   ],
   "source": [
    "df.info()"
   ]
  },
  {
   "cell_type": "code",
   "execution_count": 95,
   "metadata": {},
   "outputs": [],
   "source": [
    "# Verificando quais colunas ainda estão no dataframe antes de tentar removê-las\n",
    "columns_to_drop = ['artists', 'album_name', 'track_name', 'track_genre', 'duration_ms', \n",
    "                   'explicit', 'danceability', 'energy', 'key', 'loudness', 'mode', \n",
    "                   'speechiness', 'acousticness', 'instrumentalness', 'liveness', \n",
    "                   'valence', 'tempo', 'time_signature']\n",
    "\n",
    "# Checando quais dessas colunas ainda existem no dataframe\n",
    "columns_present = [col for col in columns_to_drop if col in encoded_df.columns]\n",
    "\n",
    "# Removendo apenas as colunas que estão presentes\n",
    "encoded_df = encoded_df.drop(columns=columns_present)\n",
    "\n",
    "# Agora você pode continuar o processamento\n"
   ]
  },
  {
   "cell_type": "code",
   "execution_count": 96,
   "metadata": {},
   "outputs": [],
   "source": [
    "X = encoded_df.drop('popularity_target', axis=1)\n",
    "y = encoded_df['popularity_target']"
   ]
  },
  {
   "cell_type": "code",
   "execution_count": 97,
   "metadata": {},
   "outputs": [
    {
     "name": "stdout",
     "output_type": "stream",
     "text": [
      "<class 'pandas.core.frame.DataFrame'>\n",
      "RangeIndex: 79800 entries, 0 to 79799\n",
      "Data columns (total 21 columns):\n",
      " #   Column             Non-Null Count  Dtype  \n",
      "---  ------             --------------  -----  \n",
      " 0   track_unique_id    79800 non-null  int64  \n",
      " 1   track_id           79800 non-null  object \n",
      " 2   artists            79800 non-null  object \n",
      " 3   album_name         79800 non-null  object \n",
      " 4   track_name         79800 non-null  object \n",
      " 5   duration_ms        79800 non-null  int64  \n",
      " 6   explicit           79800 non-null  bool   \n",
      " 7   danceability       79800 non-null  float64\n",
      " 8   energy             79800 non-null  float64\n",
      " 9   key                79800 non-null  int64  \n",
      " 10  loudness           79800 non-null  float64\n",
      " 11  mode               79800 non-null  int64  \n",
      " 12  speechiness        79800 non-null  float64\n",
      " 13  acousticness       79800 non-null  float64\n",
      " 14  instrumentalness   79800 non-null  float64\n",
      " 15  liveness           79800 non-null  float64\n",
      " 16  valence            79800 non-null  float64\n",
      " 17  tempo              79800 non-null  float64\n",
      " 18  time_signature     79800 non-null  int64  \n",
      " 19  track_genre        79800 non-null  object \n",
      " 20  popularity_target  79800 non-null  int64  \n",
      "dtypes: bool(1), float64(9), int64(6), object(5)\n",
      "memory usage: 12.3+ MB\n"
     ]
    }
   ],
   "source": [
    "df.info()"
   ]
  },
  {
   "cell_type": "code",
   "execution_count": 98,
   "metadata": {},
   "outputs": [
    {
     "data": {
      "text/html": [
       "<div>\n",
       "<style scoped>\n",
       "    .dataframe tbody tr th:only-of-type {\n",
       "        vertical-align: middle;\n",
       "    }\n",
       "\n",
       "    .dataframe tbody tr th {\n",
       "        vertical-align: top;\n",
       "    }\n",
       "\n",
       "    .dataframe thead th {\n",
       "        text-align: right;\n",
       "    }\n",
       "</style>\n",
       "<table border=\"1\" class=\"dataframe\">\n",
       "  <thead>\n",
       "    <tr style=\"text-align: right;\">\n",
       "      <th></th>\n",
       "      <th>artists_label_encoded</th>\n",
       "      <th>album_name_label_encoded</th>\n",
       "      <th>track_name_label_encoded</th>\n",
       "      <th>track_genre_label_encoded</th>\n",
       "      <th>artists_album_track</th>\n",
       "    </tr>\n",
       "  </thead>\n",
       "  <tbody>\n",
       "    <tr>\n",
       "      <th>0</th>\n",
       "      <td>0</td>\n",
       "      <td>0</td>\n",
       "      <td>0</td>\n",
       "      <td>0</td>\n",
       "      <td>0</td>\n",
       "    </tr>\n",
       "    <tr>\n",
       "      <th>1</th>\n",
       "      <td>1</td>\n",
       "      <td>1</td>\n",
       "      <td>1</td>\n",
       "      <td>1</td>\n",
       "      <td>1</td>\n",
       "    </tr>\n",
       "    <tr>\n",
       "      <th>2</th>\n",
       "      <td>2</td>\n",
       "      <td>2</td>\n",
       "      <td>2</td>\n",
       "      <td>2</td>\n",
       "      <td>8</td>\n",
       "    </tr>\n",
       "    <tr>\n",
       "      <th>3</th>\n",
       "      <td>3</td>\n",
       "      <td>3</td>\n",
       "      <td>3</td>\n",
       "      <td>3</td>\n",
       "      <td>27</td>\n",
       "    </tr>\n",
       "    <tr>\n",
       "      <th>4</th>\n",
       "      <td>4</td>\n",
       "      <td>4</td>\n",
       "      <td>4</td>\n",
       "      <td>4</td>\n",
       "      <td>64</td>\n",
       "    </tr>\n",
       "  </tbody>\n",
       "</table>\n",
       "</div>"
      ],
      "text/plain": [
       "   artists_label_encoded  album_name_label_encoded  track_name_label_encoded  \\\n",
       "0                      0                         0                         0   \n",
       "1                      1                         1                         1   \n",
       "2                      2                         2                         2   \n",
       "3                      3                         3                         3   \n",
       "4                      4                         4                         4   \n",
       "\n",
       "   track_genre_label_encoded  artists_album_track  \n",
       "0                          0                    0  \n",
       "1                          1                    1  \n",
       "2                          2                    8  \n",
       "3                          3                   27  \n",
       "4                          4                   64  "
      ]
     },
     "execution_count": 98,
     "metadata": {},
     "output_type": "execute_result"
    }
   ],
   "source": [
    "# Verifique os nomes corretos das colunas codificadas\n",
    "X.columns  # Isso exibirá todas as colunas atuais, verifique o nome correto para 'artists', 'album_name', e 'track_name'\n",
    "\n",
    "# Ajuste a linha para usar os nomes corretos das colunas codificadas\n",
    "X['artists_album_track'] = X['artists_label_encoded'] * X['album_name_label_encoded'] * X['track_name_label_encoded']\n",
    "\n",
    "# Remova colunas que foram normalizadas (se elas existirem no dataframe)\n",
    "columns_to_drop = [\n",
    "    'instrumentalness_encoded_normalized', 'duration_ms_encoded_normalized', \n",
    "    'key_encoded_normalized', 'loudness_encoded_normalized', 'mode_encoded_normalized', \n",
    "    'time_signature_encoded_normalized', 'explicit_encoded_normalized'\n",
    "]\n",
    "\n",
    "# Verifique se as colunas estão presentes antes de tentar removê-las\n",
    "columns_present = [col for col in columns_to_drop if col in X.columns]\n",
    "\n",
    "# Remova as colunas existentes\n",
    "X = X.drop(columns=columns_present)\n",
    "\n",
    "# Visualizar o dataframe para garantir que as operações ocorreram corretamente\n",
    "X.head()\n"
   ]
  },
  {
   "cell_type": "code",
   "execution_count": 99,
   "metadata": {},
   "outputs": [
    {
     "name": "stdout",
     "output_type": "stream",
     "text": [
      "Validation Accuracy: 0.7918546365914787\n",
      "Test Accuracy: 0.7933583959899749\n"
     ]
    }
   ],
   "source": [
    "# Prever no conjunto de validação\n",
    "y_pred_val = voting_model.predict(X_val_df_no_genres)\n",
    "\n",
    "# Avaliar o modelo com o conjunto de validação\n",
    "print('Validation Accuracy:', accuracy_score(y_val_df_no_genres, y_pred_val))\n",
    "\n",
    "# Prever no conjunto de teste\n",
    "y_pred_test = voting_model.predict(X_test_df_no_genres)\n",
    "\n",
    "# Avaliar o modelo com o conjunto de teste\n",
    "print('Test Accuracy:', accuracy_score(y_test_df_no_genres, y_pred_test))\n"
   ]
  },
  {
   "cell_type": "code",
   "execution_count": 100,
   "metadata": {},
   "outputs": [],
   "source": [
    "rf_classifier = RandomForestClassifier(random_state=42)\n",
    "\n",
    "etc_model = ExtraTreesClassifier(random_state=42)\n",
    "\n",
    "gbc_model = GradientBoostingClassifier(random_state=42)"
   ]
  },
  {
   "cell_type": "code",
   "execution_count": 101,
   "metadata": {},
   "outputs": [],
   "source": [
    "param_grid_rf = {\n",
    "    'n_estimators': randint(100, 1000),\n",
    "    'max_depth': [None] + list(range(5, 31)),\n",
    "    'min_samples_split': randint(2, 20),\n",
    "    'min_samples_leaf': randint(1, 20),\n",
    "    'max_features': ['auto', 'sqrt', 'log2']\n",
    "}\n",
    "\n",
    "param_grid_etc = {\n",
    "    'n_estimators': randint(100, 1000),\n",
    "    'max_depth': [None] + list(range(5, 31)),\n",
    "    'min_samples_split': randint(2, 20),\n",
    "    'min_samples_leaf': randint(1, 20),\n",
    "    'max_features': ['auto', 'sqrt', 'log2']\n",
    "}\n",
    "\n",
    "param_grid_gbc = {\n",
    "    'n_estimators': randint(100, 1000),\n",
    "    'learning_rate': uniform(0.01, 0.3),\n",
    "    'max_depth': randint(3, 15),\n",
    "    'min_samples_split': randint(2, 20),\n",
    "    'min_samples_leaf': randint(1, 20),\n",
    "    'subsample': uniform(0.6, 0.4)\n",
    "}"
   ]
  },
  {
   "cell_type": "code",
   "execution_count": 102,
   "metadata": {},
   "outputs": [],
   "source": [
    "models = [\n",
    "    (rf_classifier, param_grid_rf, 'Random Forest'),\n",
    "    (etc_model, param_grid_etc, 'Extra Trees'),\n",
    "    (gbc_model, param_grid_gbc, 'Gradient Boosting')\n",
    "]"
   ]
  },
  {
   "cell_type": "code",
   "execution_count": 103,
   "metadata": {},
   "outputs": [],
   "source": [
    "# from sklearn.metrics import make_scorer, accuracy_score\n",
    "# # Definindo o accuracy_scorer\n",
    "# accuracy_scorer = make_scorer(accuracy_score)\n",
    "\n",
    "\n",
    "# # Avaliação final do modelo\n",
    "# best_params = {}\n",
    "# best_scores = {}\n",
    "\n",
    "# for model, param_grid, name in models:\n",
    "#     print(f'Tuning {name}...')\n",
    "#     rs = RandomizedSearchCV(model, param_grid, n_iter=100, cv=5, n_jobs=-1, random_state=42, verbose=1, scoring=accuracy_scorer)\n",
    "#     rs.fit(X_train_df_no_genres, y_train_df_no_genres)\n",
    "#     best_params[name] = rs.best_params_\n",
    "#     best_scores[name] = rs.best_score_\n",
    "\n",
    "# # Exibir os melhores parâmetros e a melhor acurácia\n",
    "# for name in best_params.keys():\n",
    "#     print(f'\\nBest parameters for {name}:')\n",
    "#     for param, value in best_params[name].items():\n",
    "#         print(f'    {param}: {value}')\n",
    "#     print(f'Best accuracy for {name}: {best_scores[name]:.4f}')\n",
    "\n",
    "# # Exibir o melhor modelo\n",
    "# best_model = max(best_scores, key=best_scores.get)\n",
    "# print(f'\\nOverall best model: {best_model}')\n",
    "# print(f'Best overall accuracy: {best_scores[best_model]:.4f}')\n"
   ]
  },
  {
   "cell_type": "code",
   "execution_count": 104,
   "metadata": {},
   "outputs": [],
   "source": [
    "rf_classifier = RandomForestClassifier(random_state=42, max_depth=24, max_features='log2', min_samples_leaf=1, min_samples_split=4, n_estimators=227)\n",
    "\n",
    "etc_model = ExtraTreesClassifier(random_state=42, max_depth=24, max_features='log2', min_samples_leaf=1, min_samples_split=4, n_estimators=227)\n",
    "\n",
    "gbc_model = GradientBoostingClassifier(random_state=42, learning_rate=0.08323765667433225, max_depth=13, min_samples_leaf=9, min_samples_split=18, n_estimators=929, subsample=0.9887128330883843)"
   ]
  },
  {
   "cell_type": "code",
   "execution_count": 108,
   "metadata": {},
   "outputs": [
    {
     "name": "stdout",
     "output_type": "stream",
     "text": [
      "Validation Accuracy: 0.7904135338345865\n",
      "Test Accuracy: 0.793984962406015\n"
     ]
    }
   ],
   "source": [
    "# Definindo o VotingClassifier com novos dados após Label Encoding\n",
    "voting_model = VotingClassifier(\n",
    "    estimators=[\n",
    "        ('gbc_model', GradientBoostingClassifier()),\n",
    "        ('rf_classifier', RandomForestClassifier()),\n",
    "        ('etc_model', ExtraTreesClassifier()),\n",
    "    ],\n",
    "    voting='soft'\n",
    ")\n",
    "\n",
    "# Treinando o modelo com os dados de treino\n",
    "voting_model.fit(X_train_df_no_genres, y_train_df_no_genres)\n",
    "\n",
    "# Fazendo predições no conjunto de validação\n",
    "y_pred_val = voting_model.predict(X_val_df_no_genres)  # Conjunto de validação\n",
    "\n",
    "# Fazendo predições no conjunto de teste\n",
    "y_pred_test = voting_model.predict(X_test_df_no_genres)  # Conjunto de teste\n",
    "\n",
    "# Avaliação no conjunto de validação\n",
    "print('Validation Accuracy:', accuracy_score(y_val_df_no_genres, y_pred_val))\n",
    "\n",
    "# Avaliação no conjunto de teste\n",
    "print('Test Accuracy:', accuracy_score(y_test_df_no_genres, y_pred_test))\n"
   ]
  },
  {
   "cell_type": "code",
   "execution_count": 112,
   "metadata": {},
   "outputs": [],
   "source": [
    "from sklearn.preprocessing import StandardScaler\n",
    "\n",
    "def apply_normalize_and_encode(df, encoding_dict, scaler_dict):\n",
    "   \n",
    "    df_encoded = df.copy()\n",
    "    \n",
    "    # Aplicar codificação para colunas categóricas\n",
    "    for col, encoding_map in encoding_dict.items():\n",
    "        # Codificar as colunas com o mapeamento gerado durante o treino\n",
    "        df_encoded[col + '_encoded'] = df_encoded[col].map(encoding_map).fillna(-1)  # Valores desconhecidos recebem -1\n",
    "    \n",
    "    # Aplicar normalização para colunas numéricas\n",
    "    for col, scaler in scaler_dict.items():\n",
    "        if col in df_encoded.columns:\n",
    "            df_encoded[col + '_encoded_normalized'] = scaler.transform(df_encoded[[col]])\n",
    "    \n",
    "    return df_encoded\n"
   ]
  },
  {
   "cell_type": "code",
   "execution_count": 121,
   "metadata": {},
   "outputs": [
    {
     "name": "stdout",
     "output_type": "stream",
     "text": [
      "Previsões feitas com sucesso.\n",
      "Arquivo result_voting.csv salvo com sucesso.\n"
     ]
    }
   ],
   "source": [
    "# 1. Copiar o conjunto de teste e remover colunas desnecessárias\n",
    "df_test_target_encoding = df_test.copy()\n",
    "\n",
    "# Remover colunas que não serão usadas para as previsões\n",
    "df_test_target_encoding = df_test_target_encoding.drop(columns=['track_unique_id', 'track_id'])\n",
    "\n",
    "# 2. Substituir valores problemáticos (ex: tempo igual a 0) pelas medianas apropriadas\n",
    "# Substituir os valores 0 na coluna 'tempo' pela mediana do tempo\n",
    "df_test_target_encoding['tempo'] = df_test_target_encoding['tempo'].replace(0, tempo_median)\n",
    "\n",
    "# Substituir os valores 0 na coluna 'time_signature' pelo valor padrão (4)\n",
    "df_test_target_encoding['time_signature'] = df_test_target_encoding['time_signature'].replace(0, 4)\n",
    "\n",
    "# 3. Aplicar normalização e codificação no conjunto de teste\n",
    "# Garantir que a função apply_normalize_and_encode está devidamente definida e aplicá-la\n",
    "df_test_target_encoding = apply_normalize_and_encode(df_test_target_encoding, encoding_dict, scaler_dict)\n",
    "\n",
    "# 4. Criar a feature derivada 'artists_album_track' a partir das colunas codificadas\n",
    "# Verificar se as colunas necessárias estão presentes antes de criar a feature\n",
    "if 'artists_encoded' in df_test_target_encoding.columns and 'album_name_encoded' in df_test_target_encoding.columns and 'track_name_encoded' in df_test_target_encoding.columns:\n",
    "    df_test_target_encoding['artists_album_track'] = (\n",
    "        df_test_target_encoding['artists_encoded'] * \n",
    "        df_test_target_encoding['album_name_encoded'] * \n",
    "        df_test_target_encoding['track_name_encoded']\n",
    "    )\n",
    "else:\n",
    "    print(\"Colunas codificadas necessárias para 'artists_album_track' não estão presentes no dataframe.\")\n",
    "\n",
    "# 5. Remover colunas que não foram utilizadas no treino\n",
    "# Definir as colunas que precisam ser removidas, caso existam\n",
    "columns_to_drop = ['artists', 'album_name', 'track_name', 'duration_ms', 'explicit', 'danceability', 'energy', \n",
    "                   'key', 'loudness', 'mode', 'speechiness', 'acousticness', 'instrumentalness', 'liveness', \n",
    "                   'valence', 'tempo', 'time_signature', 'track_genre', 'instrumentalness_encoded_normalized', \n",
    "                   'duration_ms_encoded_normalized', 'key_encoded_normalized', 'loudness_encoded_normalized', \n",
    "                   'mode_encoded_normalized', 'time_signature_encoded_normalized', 'explicit_encoded_normalized']\n",
    "\n",
    "# Remover as colunas que realmente existem no dataframe\n",
    "columns_present = [col for col in columns_to_drop if col in df_test_target_encoding.columns]\n",
    "df_test_target_encoding = df_test_target_encoding.drop(columns=columns_present)\n",
    "\n",
    "# 6. Verificar as colunas esperadas pelo modelo treinado\n",
    "# Obter as colunas com as quais o modelo foi treinado\n",
    "expected_columns = voting_model.feature_names_in_\n",
    "\n",
    "# 7. Alinhar as colunas do conjunto de teste com as colunas usadas durante o treino\n",
    "# Ajustar o conjunto de teste para ter exatamente as mesmas colunas do treino\n",
    "df_test_target_encoding_aligned = df_test_target_encoding.reindex(columns=expected_columns, fill_value=0)\n",
    "\n",
    "# 8. Fazer as previsões usando apenas as colunas alinhadas\n",
    "try:\n",
    "    predict_target_encoding_stacking = voting_model.predict(df_test_target_encoding_aligned)\n",
    "    print(\"Previsões feitas com sucesso.\")\n",
    "except ValueError as e:\n",
    "    print(f\"Erro ao fazer as previsões: {e}\")\n",
    "\n",
    "# 9. Criar o DataFrame de resultados e salvar como CSV\n",
    "try:\n",
    "    result_stacking = pd.DataFrame({\n",
    "        'track_unique_id': df_test['track_unique_id'],\n",
    "        'popularity_target': predict_target_encoding_stacking\n",
    "    })\n",
    "    result_stacking.to_csv('result_voting.csv', index=False)\n",
    "    print(\"Arquivo result_voting.csv salvo com sucesso.\")\n",
    "except Exception as e:\n",
    "    print(f\"Erro ao salvar o arquivo: {e}\")\n"
   ]
  }
 ],
 "metadata": {
  "kernelspec": {
   "display_name": ".venv",
   "language": "python",
   "name": "python3"
  },
  "language_info": {
   "codemirror_mode": {
    "name": "ipython",
    "version": 3
   },
   "file_extension": ".py",
   "mimetype": "text/x-python",
   "name": "python",
   "nbconvert_exporter": "python",
   "pygments_lexer": "ipython3",
   "version": "3.12.4"
  }
 },
 "nbformat": 4,
 "nbformat_minor": 2
}
